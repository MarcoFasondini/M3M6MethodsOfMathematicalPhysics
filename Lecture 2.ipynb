{
 "cells": [
  {
   "cell_type": "code",
   "execution_count": 1,
   "metadata": {},
   "outputs": [
    {
     "data": {
      "text/html": [
       "<div id=\"interact-js-shim\">\n",
       "    <script charset=\"utf-8\">\n",
       "(function (IPython, $, _, MathJax) {\n",
       "    $.event.special.destroyed = {\n",
       "\tremove: function(o) {\n",
       "\t    if (o.handler) {\n",
       "\t\to.handler.apply(this, arguments)\n",
       "\t    }\n",
       "\t}\n",
       "    }\n",
       "\n",
       "    var OutputArea = IPython.version >= \"4.0.0\" ? require(\"notebook/js/outputarea\").OutputArea : IPython.OutputArea;\n",
       "\n",
       "    var redrawValue = function (container, type, val) {\n",
       "\tvar selector = $(\"<div/>\");\n",
       "\tvar oa = new OutputArea(_.extend(selector, {\n",
       "\t    selector: selector,\n",
       "\t    prompt_area: true,\n",
       "\t    events: IPython.events,\n",
       "\t    keyboard_manager: IPython.keyboard_manager\n",
       "\t})); // Hack to work with IPython 2.1.0\n",
       "\n",
       "\tswitch (type) {\n",
       "\tcase \"image/png\":\n",
       "            var _src = 'data:' + type + ';base64,' + val;\n",
       "\t    $(container).find(\"img\").attr('src', _src);\n",
       "\t    break;\n",
       "\tcase \"text/latex\":\n",
       "\t\tif (MathJax){\n",
       "\t\t\tvar math = MathJax.Hub.getAllJax(container)[0];\n",
       "\t\t\tMathJax.Hub.Queue([\"Text\", math, val.replace(/^\\${1,2}|\\${1,2}$/g, '')]);\n",
       "\t\t\tbreak;\n",
       "\t\t}\n",
       "\tdefault:\n",
       "\t    var toinsert = OutputArea.append_map[type].apply(\n",
       "\t\toa, [val, {}, selector]\n",
       "\t    );\n",
       "\t    $(container).empty().append(toinsert.contents());\n",
       "\t    selector.remove();\n",
       "\t}\n",
       "    }\n",
       "\n",
       "\n",
       "    $(document).ready(function() {\n",
       "\tfunction initComm(evt, data) {\n",
       "\t    var comm_manager = data.kernel.comm_manager;\n",
       "        //_.extend(comm_manager.targets, require(\"widgets/js/widget\"))\n",
       "\t    comm_manager.register_target(\"Signal\", function (comm) {\n",
       "            comm.on_msg(function (msg) {\n",
       "                var val = msg.content.data.value;\n",
       "                $(\".signal-\" + comm.comm_id).each(function() {\n",
       "                var type = $(this).data(\"type\");\n",
       "                if (typeof(val[type]) !== \"undefined\" && val[type] !== null) {\n",
       "                    redrawValue(this, type, val[type], type);\n",
       "                }\n",
       "                });\n",
       "                delete val;\n",
       "                delete msg.content.data.value;\n",
       "            });\n",
       "\t    });\n",
       "\n",
       "\t    // coordingate with Comm and redraw Signals\n",
       "\t    // XXX: Test using Reactive here to improve performance\n",
       "\t    $([IPython.events]).on(\n",
       "\t\t'output_appended.OutputArea', function (event, type, value, md, toinsert) {\n",
       "\t\t    if (md && md.reactive) {\n",
       "                // console.log(md.comm_id);\n",
       "                toinsert.addClass(\"signal-\" + md.comm_id);\n",
       "                toinsert.data(\"type\", type);\n",
       "                // Signal back indicating the mimetype required\n",
       "                var comm_manager = IPython.notebook.kernel.comm_manager;\n",
       "                var comm = comm_manager.comms[md.comm_id];\n",
       "                comm.then(function (c) {\n",
       "                    c.send({action: \"subscribe_mime\",\n",
       "                       mime: type});\n",
       "                    toinsert.bind(\"destroyed\", function() {\n",
       "                        c.send({action: \"unsubscribe_mime\",\n",
       "                               mime: type});\n",
       "                    });\n",
       "                })\n",
       "\t\t    }\n",
       "\t    });\n",
       "\t}\n",
       "\n",
       "\ttry {\n",
       "\t    // try to initialize right away. otherwise, wait on the status_started event.\n",
       "\t    initComm(undefined, IPython.notebook);\n",
       "\t} catch (e) {\n",
       "\t    $([IPython.events]).on('kernel_created.Kernel kernel_created.Session', initComm);\n",
       "\t}\n",
       "    });\n",
       "})(IPython, jQuery, _, MathJax);\n",
       "</script>\n",
       "    <script>\n",
       "        window.interactLoadedFlag = true\n",
       "       $(\"#interact-js-shim\").bind(\"destroyed\", function () {\n",
       "           if (window.interactLoadedFlag) {\n",
       "               console.warn(\"JavaScript required by Interact will be removed if you remove this cell or run using Interact more than once.\")\n",
       "           }\n",
       "       })\n",
       "       $([IPython.events]).on(\"kernel_starting.Kernel kernel_restarting.Kernel\", function () { window.interactLoadedFlag = false })\n",
       "   </script>\n",
       "</div>"
      ]
     },
     "metadata": {},
     "output_type": "display_data"
    }
   ],
   "source": [
    "using Plots, ComplexPhasePortrait, Interact, ApproxFun\n",
    "gr();"
   ]
  },
  {
   "cell_type": "markdown",
   "metadata": {},
   "source": [
    "# M3M6: Methods of Mathematical Physics\n",
    "\n",
    "Dr. Sheehan Olver\n",
    "<br>\n",
    "s.olver@imperial.ac.uk\n",
    "\n",
    "Office Hours: 3-4pm Mondays, Huxley 6M40\n",
    "<br>\n",
    "Website: Blackboard\n",
    "\n",
    "\n",
    "\n",
    "# Lecture 2: Cauchy's theorem"
   ]
  },
  {
   "cell_type": "markdown",
   "metadata": {},
   "source": [
    "References: \n",
    "\n",
    "1. M.J. Ablowitz & A.S. Fokas, Complex Variables: Introduction and Applications, Second Edition, Cambridge University Press, 2003\n",
    "2. R. Earl, Metric Spaces and Complex Analysis, https://courses.maths.ox.ac.uk/node/view_material/5392, 2015\n",
    "\n",
    "\n",
    "### Complex-differentiable functions \n",
    "\n",
    "\n",
    "**Definition (Complex-differentiable)** Let $D \\subset {\\mathbb C}$ be an open set.  A function $f : D \\rightarrow {\\mathbb C}$ is called _complex-differentiable_ at a point $z_0 \\in D$ if \n",
    "$$ \n",
    "   f'(z_0) =  \\lim_{z \\rightarrow z_0} {f(z) - f(z_0) \\over z - z_0}\n",
    "$$\n",
    "exists, for any angle of approach to $z_0$."
   ]
  },
  {
   "cell_type": "code",
   "execution_count": 38,
   "metadata": {},
   "outputs": [
    {
     "data": {
      "text/plain": [
       "1.4686939399158851 + 2.2873552871788423im"
      ]
     },
     "execution_count": 38,
     "metadata": {},
     "output_type": "execute_result"
    }
   ],
   "source": [
    "exp(z₀)"
   ]
  },
  {
   "cell_type": "code",
   "execution_count": 39,
   "metadata": {},
   "outputs": [
    {
     "data": {
      "text/html": [],
      "text/plain": [
       "Interact.Options{:SelectionSlider,Any}(25: \"input-8\" = -7.555555555555555 Any , \"logh\", -7.555555555555555, \"-7.555555555555555\", 50, Interact.OptionDict(DataStructures.OrderedDict{Any,Any}(\"-13.0\"=>-13.0,\"-12.88888888888889\"=>-12.8889,\"-12.777777777777779\"=>-12.7778,\"-12.666666666666666\"=>-12.6667,\"-12.555555555555555\"=>-12.5556,\"-12.444444444444445\"=>-12.4444,\"-12.333333333333334\"=>-12.3333,\"-12.222222222222221\"=>-12.2222,\"-12.11111111111111\"=>-12.1111,\"-12.0\"=>-12.0…), Dict{Any,Any}(Pair{Any,Any}(-3.11111, \"-3.111111111111111\"),Pair{Any,Any}(-11.6667, \"-11.666666666666666\"),Pair{Any,Any}(-10.5556, \"-10.555555555555555\"),Pair{Any,Any}(-4.66667, \"-4.666666666666667\"),Pair{Any,Any}(-7.0, \"-7.0\"),Pair{Any,Any}(-4.55556, \"-4.555555555555555\"),Pair{Any,Any}(-8.22222, \"-8.222222222222221\"),Pair{Any,Any}(-6.77778, \"-6.777777777777778\"),Pair{Any,Any}(-3.0, \"-3.0\"),Pair{Any,Any}(-12.4444, \"-12.444444444444445\")…)), Any[], Any[], true, \"horizontal\")"
      ]
     },
     "metadata": {},
     "output_type": "display_data"
    },
    {
     "data": {
      "text/html": [],
      "text/plain": [
       "Interact.Options{:SelectionSlider,Any}(27: \"input-9\" = -0.03173325912716963 Any , \"θ\", -0.03173325912716963, \"-0.03173325912716963\", 50, Interact.OptionDict(DataStructures.OrderedDict{Any,Any}(\"-3.141592653589793\"=>-3.14159,\"-3.0781261353354537\"=>-3.07813,\"-3.0146596170811146\"=>-3.01466,\"-2.951193098826775\"=>-2.95119,\"-2.887726580572436\"=>-2.88773,\"-2.8242600623180967\"=>-2.82426,\"-2.7607935440637577\"=>-2.76079,\"-2.697327025809418\"=>-2.69733,\"-2.633860507555079\"=>-2.63386,\"-2.5703939893007397\"=>-2.57039…), Dict{Any,Any}(Pair{Any,Any}(-1.68186, \"-1.6818627337399903\"),Pair{Any,Any}(-1.9992, \"-1.9991953250116865\"),Pair{Any,Any}(-0.222133, \"-0.22213281389018738\"),Pair{Any,Any}(2.69733, \"2.697327025809418\"),Pair{Any,Any}(-0.920265, \"-0.9202645146879191\"),Pair{Any,Any}(-1.30106, \"-1.3010636242139548\"),Pair{Any,Any}(-0.729865, \"-0.7298649599249014\"),Pair{Any,Any}(1.93573, \"1.9357288067573473\"),Pair{Any,Any}(2.44346, \"2.443460952792061\"),Pair{Any,Any}(-0.856798, \"-0.8567979964335799\")…)), Any[], Any[], true, \"horizontal\")"
      ]
     },
     "metadata": {},
     "output_type": "display_data"
    },
    {
     "data": {
      "text/html": [
       "<?xml version=\"1.0\" encoding=\"utf-8\"?>\n",
       "<svg xmlns=\"http://www.w3.org/2000/svg\" xmlns:xlink=\"http://www.w3.org/1999/xlink\" width=\"600\" height=\"400\" viewBox=\"0 0 600 400\">\n",
       "<defs>\n",
       "  <clipPath id=\"clip00\">\n",
       "    <rect x=\"0\" y=\"0\" width=\"600\" height=\"400\"/>\n",
       "  </clipPath>\n",
       "</defs>\n",
       "<polygon clip-path=\"url(#clip00)\" points=\"\n",
       "0,400 600,400 600,0 0,0 \n",
       "  \" fill=\"#ffffff\" fill-opacity=\"1\"/>\n",
       "<defs>\n",
       "  <clipPath id=\"clip01\">\n",
       "    <rect x=\"120\" y=\"0\" width=\"421\" height=\"400\"/>\n",
       "  </clipPath>\n",
       "</defs>\n",
       "<polygon clip-path=\"url(#clip00)\" points=\"\n",
       "38.8117,375.813 580.315,375.813 580.315,31.4961 38.8117,31.4961 \n",
       "  \" fill=\"#ffffff\" fill-opacity=\"1\"/>\n",
       "<defs>\n",
       "  <clipPath id=\"clip02\">\n",
       "    <rect x=\"38\" y=\"31\" width=\"543\" height=\"345\"/>\n",
       "  </clipPath>\n",
       "</defs>\n",
       "<polyline clip-path=\"url(#clip02)\" style=\"stroke:#000000; stroke-width:0.5; stroke-opacity:0.1; fill:none\" points=\"\n",
       "  38.8117,370.649 38.8117,36.6608 \n",
       "  \"/>\n",
       "<polyline clip-path=\"url(#clip02)\" style=\"stroke:#000000; stroke-width:0.5; stroke-opacity:0.1; fill:none\" points=\"\n",
       "  174.188,370.649 174.188,36.6608 \n",
       "  \"/>\n",
       "<polyline clip-path=\"url(#clip02)\" style=\"stroke:#000000; stroke-width:0.5; stroke-opacity:0.1; fill:none\" points=\"\n",
       "  309.563,370.649 309.563,36.6608 \n",
       "  \"/>\n",
       "<polyline clip-path=\"url(#clip02)\" style=\"stroke:#000000; stroke-width:0.5; stroke-opacity:0.1; fill:none\" points=\"\n",
       "  444.939,370.649 444.939,36.6608 \n",
       "  \"/>\n",
       "<polyline clip-path=\"url(#clip02)\" style=\"stroke:#000000; stroke-width:0.5; stroke-opacity:0.1; fill:none\" points=\"\n",
       "  580.315,370.649 580.315,36.6608 \n",
       "  \"/>\n",
       "<polyline clip-path=\"url(#clip02)\" style=\"stroke:#000000; stroke-width:0.5; stroke-opacity:0.1; fill:none\" points=\"\n",
       "  46.9343,375.813 572.192,375.813 \n",
       "  \"/>\n",
       "<polyline clip-path=\"url(#clip02)\" style=\"stroke:#000000; stroke-width:0.5; stroke-opacity:0.1; fill:none\" points=\"\n",
       "  46.9343,289.734 572.192,289.734 \n",
       "  \"/>\n",
       "<polyline clip-path=\"url(#clip02)\" style=\"stroke:#000000; stroke-width:0.5; stroke-opacity:0.1; fill:none\" points=\"\n",
       "  46.9343,203.655 572.192,203.655 \n",
       "  \"/>\n",
       "<polyline clip-path=\"url(#clip02)\" style=\"stroke:#000000; stroke-width:0.5; stroke-opacity:0.1; fill:none\" points=\"\n",
       "  46.9343,117.575 572.192,117.575 \n",
       "  \"/>\n",
       "<polyline clip-path=\"url(#clip02)\" style=\"stroke:#000000; stroke-width:0.5; stroke-opacity:0.1; fill:none\" points=\"\n",
       "  46.9343,31.4961 572.192,31.4961 \n",
       "  \"/>\n",
       "<polyline clip-path=\"url(#clip00)\" style=\"stroke:#000000; stroke-width:1; stroke-opacity:1; fill:none\" points=\"\n",
       "  38.8117,375.813 580.315,375.813 \n",
       "  \"/>\n",
       "<polyline clip-path=\"url(#clip00)\" style=\"stroke:#000000; stroke-width:1; stroke-opacity:1; fill:none\" points=\"\n",
       "  38.8117,375.813 38.8117,370.649 \n",
       "  \"/>\n",
       "<polyline clip-path=\"url(#clip00)\" style=\"stroke:#000000; stroke-width:1; stroke-opacity:1; fill:none\" points=\"\n",
       "  174.188,375.813 174.188,370.649 \n",
       "  \"/>\n",
       "<polyline clip-path=\"url(#clip00)\" style=\"stroke:#000000; stroke-width:1; stroke-opacity:1; fill:none\" points=\"\n",
       "  309.563,375.813 309.563,370.649 \n",
       "  \"/>\n",
       "<polyline clip-path=\"url(#clip00)\" style=\"stroke:#000000; stroke-width:1; stroke-opacity:1; fill:none\" points=\"\n",
       "  444.939,375.813 444.939,370.649 \n",
       "  \"/>\n",
       "<polyline clip-path=\"url(#clip00)\" style=\"stroke:#000000; stroke-width:1; stroke-opacity:1; fill:none\" points=\"\n",
       "  580.315,375.813 580.315,370.649 \n",
       "  \"/>\n",
       "<polyline clip-path=\"url(#clip00)\" style=\"stroke:#000000; stroke-width:1; stroke-opacity:1; fill:none\" points=\"\n",
       "  38.8117,375.813 38.8117,31.4961 \n",
       "  \"/>\n",
       "<polyline clip-path=\"url(#clip00)\" style=\"stroke:#000000; stroke-width:1; stroke-opacity:1; fill:none\" points=\"\n",
       "  38.8117,375.813 46.9343,375.813 \n",
       "  \"/>\n",
       "<polyline clip-path=\"url(#clip00)\" style=\"stroke:#000000; stroke-width:1; stroke-opacity:1; fill:none\" points=\"\n",
       "  38.8117,289.734 46.9343,289.734 \n",
       "  \"/>\n",
       "<polyline clip-path=\"url(#clip00)\" style=\"stroke:#000000; stroke-width:1; stroke-opacity:1; fill:none\" points=\"\n",
       "  38.8117,203.655 46.9343,203.655 \n",
       "  \"/>\n",
       "<polyline clip-path=\"url(#clip00)\" style=\"stroke:#000000; stroke-width:1; stroke-opacity:1; fill:none\" points=\"\n",
       "  38.8117,117.575 46.9343,117.575 \n",
       "  \"/>\n",
       "<polyline clip-path=\"url(#clip00)\" style=\"stroke:#000000; stroke-width:1; stroke-opacity:1; fill:none\" points=\"\n",
       "  38.8117,31.4961 46.9343,31.4961 \n",
       "  \"/>\n",
       "<g clip-path=\"url(#clip00)\">\n",
       "<text style=\"fill:#000000; fill-opacity:1; font-family:Arial,Helvetica Neue,Helvetica,sans-serif; font-size:12; text-anchor:middle;\" transform=\"rotate(0, 38.8117, 389.613)\" x=\"38.8117\" y=\"389.613\">0.90</text>\n",
       "</g>\n",
       "<g clip-path=\"url(#clip00)\">\n",
       "<text style=\"fill:#000000; fill-opacity:1; font-family:Arial,Helvetica Neue,Helvetica,sans-serif; font-size:12; text-anchor:middle;\" transform=\"rotate(0, 174.188, 389.613)\" x=\"174.188\" y=\"389.613\">0.95</text>\n",
       "</g>\n",
       "<g clip-path=\"url(#clip00)\">\n",
       "<text style=\"fill:#000000; fill-opacity:1; font-family:Arial,Helvetica Neue,Helvetica,sans-serif; font-size:12; text-anchor:middle;\" transform=\"rotate(0, 309.563, 389.613)\" x=\"309.563\" y=\"389.613\">1.00</text>\n",
       "</g>\n",
       "<g clip-path=\"url(#clip00)\">\n",
       "<text style=\"fill:#000000; fill-opacity:1; font-family:Arial,Helvetica Neue,Helvetica,sans-serif; font-size:12; text-anchor:middle;\" transform=\"rotate(0, 444.939, 389.613)\" x=\"444.939\" y=\"389.613\">1.05</text>\n",
       "</g>\n",
       "<g clip-path=\"url(#clip00)\">\n",
       "<text style=\"fill:#000000; fill-opacity:1; font-family:Arial,Helvetica Neue,Helvetica,sans-serif; font-size:12; text-anchor:middle;\" transform=\"rotate(0, 580.315, 389.613)\" x=\"580.315\" y=\"389.613\">1.10</text>\n",
       "</g>\n",
       "<g clip-path=\"url(#clip00)\">\n",
       "<text style=\"fill:#000000; fill-opacity:1; font-family:Arial,Helvetica Neue,Helvetica,sans-serif; font-size:12; text-anchor:end;\" transform=\"rotate(0, 32.8117, 380.313)\" x=\"32.8117\" y=\"380.313\">0.90</text>\n",
       "</g>\n",
       "<g clip-path=\"url(#clip00)\">\n",
       "<text style=\"fill:#000000; fill-opacity:1; font-family:Arial,Helvetica Neue,Helvetica,sans-serif; font-size:12; text-anchor:end;\" transform=\"rotate(0, 32.8117, 294.234)\" x=\"32.8117\" y=\"294.234\">0.95</text>\n",
       "</g>\n",
       "<g clip-path=\"url(#clip00)\">\n",
       "<text style=\"fill:#000000; fill-opacity:1; font-family:Arial,Helvetica Neue,Helvetica,sans-serif; font-size:12; text-anchor:end;\" transform=\"rotate(0, 32.8117, 208.155)\" x=\"32.8117\" y=\"208.155\">1.00</text>\n",
       "</g>\n",
       "<g clip-path=\"url(#clip00)\">\n",
       "<text style=\"fill:#000000; fill-opacity:1; font-family:Arial,Helvetica Neue,Helvetica,sans-serif; font-size:12; text-anchor:end;\" transform=\"rotate(0, 32.8117, 122.075)\" x=\"32.8117\" y=\"122.075\">1.05</text>\n",
       "</g>\n",
       "<g clip-path=\"url(#clip00)\">\n",
       "<text style=\"fill:#000000; fill-opacity:1; font-family:Arial,Helvetica Neue,Helvetica,sans-serif; font-size:12; text-anchor:end;\" transform=\"rotate(0, 32.8117, 35.9961)\" x=\"32.8117\" y=\"35.9961\">1.10</text>\n",
       "</g>\n",
       "<g clip-path=\"url(#clip00)\">\n",
       "<text style=\"fill:#000000; fill-opacity:1; font-family:Arial,Helvetica Neue,Helvetica,sans-serif; font-size:21; text-anchor:middle;\" transform=\"rotate(0, 309.563, 18)\" x=\"309.563\" y=\"18\">1.469097011881856 + 2.287941262620239im</text>\n",
       "</g>\n",
       "<circle clip-path=\"url(#clip02)\" style=\"fill:#000000; stroke:none; fill-opacity:1\" cx=\"309.563\" cy=\"203.655\" r=\"4\"/>\n",
       "<circle clip-path=\"url(#clip02)\" style=\"fill:#009af9; stroke:none; fill-opacity:1\" cx=\"309.563\" cy=\"203.655\" r=\"3\"/>\n",
       "<circle clip-path=\"url(#clip02)\" style=\"fill:#000000; stroke:none; fill-opacity:1\" cx=\"310.979\" cy=\"203.683\" r=\"4\"/>\n",
       "<circle clip-path=\"url(#clip02)\" style=\"fill:#e26f46; stroke:none; fill-opacity:1\" cx=\"310.979\" cy=\"203.683\" r=\"3\"/>\n",
       "<polygon clip-path=\"url(#clip00)\" points=\"\n",
       "239.405,97.7361 562.315,97.7361 562.315,52.3761 239.405,52.3761 \n",
       "  \" fill=\"#ffffff\" fill-opacity=\"1\"/>\n",
       "<polyline clip-path=\"url(#clip00)\" style=\"stroke:#000000; stroke-width:1; stroke-opacity:1; fill:none\" points=\"\n",
       "  239.405,97.7361 562.315,97.7361 562.315,52.3761 239.405,52.3761 239.405,97.7361 \n",
       "  \"/>\n",
       "<circle clip-path=\"url(#clip00)\" style=\"fill:#000000; stroke:none; fill-opacity:1\" cx=\"266.405\" cy=\"67.4961\" r=\"6\"/>\n",
       "<circle clip-path=\"url(#clip00)\" style=\"fill:#009af9; stroke:none; fill-opacity:1\" cx=\"266.405\" cy=\"67.4961\" r=\"5\"/>\n",
       "<g clip-path=\"url(#clip00)\">\n",
       "<text style=\"fill:#000000; fill-opacity:1; font-family:Arial,Helvetica Neue,Helvetica,sans-serif; font-size:12; text-anchor:start;\" transform=\"rotate(0, 287.405, 71.9961)\" x=\"287.405\" y=\"71.9961\">z0 = 1.0 + 1.0im</text>\n",
       "</g>\n",
       "<circle clip-path=\"url(#clip00)\" style=\"fill:#000000; stroke:none; fill-opacity:1\" cx=\"266.405\" cy=\"82.6161\" r=\"6\"/>\n",
       "<circle clip-path=\"url(#clip00)\" style=\"fill:#e26f46; stroke:none; fill-opacity:1\" cx=\"266.405\" cy=\"82.6161\" r=\"5\"/>\n",
       "<g clip-path=\"url(#clip00)\">\n",
       "<text style=\"fill:#000000; fill-opacity:1; font-family:Arial,Helvetica Neue,Helvetica,sans-serif; font-size:12; text-anchor:start;\" transform=\"rotate(0, 287.405, 87.1161)\" x=\"287.405\" y=\"87.1161\">z = 1.000522931990338 + 0.999983400091236im</text>\n",
       "</g>\n",
       "</svg>\n"
      ]
     },
     "execution_count": 39,
     "metadata": {
      "comm_id": "50b80f30-0654-48d4-b13f-0e4a628bd81f",
      "reactive": true
     },
     "output_type": "execute_result"
    }
   ],
   "source": [
    "z₀ = 1.0 +im\n",
    "f = z -> exp(z)\n",
    "\n",
    "\n",
    "\n",
    "@manipulate for logh in linspace(-13,-2,100),\n",
    "    θ = linspace(-π,π,100)\n",
    "    h = exp(logh)\n",
    "    z = z₀ + h*exp(im*θ)\n",
    "    fp = (f(z) - f(z₀))/(z - z₀)\n",
    "    scatter([real(z₀)],[imag(z₀)]; title=\"$fp\", label=\"z0 = $(z₀)\")\n",
    "    scatter!([real(z)],[imag(z)]; label=\"z = $z\")   \n",
    "    xlims!(0.9,1.1)\n",
    "    ylims!(0.9,1.1)\n",
    "end\n"
   ]
  },
  {
   "cell_type": "markdown",
   "metadata": {},
   "source": [
    "### Holomorphic functions\n",
    "\n",
    "**Definition (Holomorphic)** Let $D \\subset {\\mathbb C}$ be an open set.  A function $f : D \\rightarrow {\\mathbb C}$ is called _holomorphic_ in $D$ if it is complex-differentiable at all $z \\in D$.\n",
    "\n",
    "**Definition (Entire)** A function is _entire_ if it is holomorphic in ${\\mathbb C}$\n",
    "\n",
    "\n",
    "*Examples*\n",
    "\n",
    "1. $1$ is entire\n",
    "2. $z$ is entire\n",
    "3. $1/z$ is holomorphic in ${\\mathbb C} \\backslash \\{0\\}$\n",
    "4. $\\sin z$ is entire\n",
    "5. $\\csc z$ is holomorphic in ${\\mathbb C} \\backslash \\{\\ldots,-2\\pi,-\\pi,0,\\pi,2\\pi,\\ldots\\}$\n",
    "6. $\\sqrt z$ is holomorphic in ${\\mathbb C} \\backslash (-\\infty,0]$"
   ]
  },
  {
   "cell_type": "code",
   "execution_count": 48,
   "metadata": {},
   "outputs": [
    {
     "data": {
      "image/png": "[encoded data removed]",
      "text/plain": [
       "500×500 Array{RGB{Float64},2}:\n",
       " RGB{Float64}(0.0,1.0,0.724541)  …  RGB{Float64}(1.0,0.270451,0.0)\n",
       " RGB{Float64}(0.0,1.0,0.724541)     RGB{Float64}(1.0,0.270451,0.0)\n",
       " RGB{Float64}(0.0,1.0,0.724541)     RGB{Float64}(1.0,0.270451,0.0)\n",
       " RGB{Float64}(0.0,1.0,0.724541)     RGB{Float64}(1.0,0.270451,0.0)\n",
       " RGB{Float64}(0.0,1.0,0.724541)     RGB{Float64}(1.0,0.270451,0.0)\n",
       " RGB{Float64}(0.0,1.0,0.724541)  …  RGB{Float64}(1.0,0.270451,0.0)\n",
       " RGB{Float64}(0.0,1.0,0.724541)     RGB{Float64}(1.0,0.270451,0.0)\n",
       " RGB{Float64}(0.0,1.0,0.724541)     RGB{Float64}(1.0,0.270451,0.0)\n",
       " RGB{Float64}(0.0,1.0,0.734558)     RGB{Float64}(1.0,0.260434,0.0)\n",
       " RGB{Float64}(0.0,1.0,0.734558)     RGB{Float64}(1.0,0.260434,0.0)\n",
       " RGB{Float64}(0.0,1.0,0.734558)  …  RGB{Float64}(1.0,0.260434,0.0)\n",
       " RGB{Float64}(0.0,1.0,0.734558)     RGB{Float64}(1.0,0.260434,0.0)\n",
       " RGB{Float64}(0.0,1.0,0.734558)     RGB{Float64}(1.0,0.260434,0.0)\n",
       " ⋮                               ⋱                                \n",
       " RGB{Float64}(0.0,0.734558,1.0)     RGB{Float64}(1.0,0.0,0.260434)\n",
       " RGB{Float64}(0.0,0.734558,1.0)     RGB{Float64}(1.0,0.0,0.260434)\n",
       " RGB{Float64}(0.0,0.734558,1.0)  …  RGB{Float64}(1.0,0.0,0.260434)\n",
       " RGB{Float64}(0.0,0.734558,1.0)     RGB{Float64}(1.0,0.0,0.260434)\n",
       " RGB{Float64}(0.0,0.724541,1.0)     RGB{Float64}(1.0,0.0,0.270451)\n",
       " RGB{Float64}(0.0,0.724541,1.0)     RGB{Float64}(1.0,0.0,0.270451)\n",
       " RGB{Float64}(0.0,0.724541,1.0)     RGB{Float64}(1.0,0.0,0.270451)\n",
       " RGB{Float64}(0.0,0.724541,1.0)  …  RGB{Float64}(1.0,0.0,0.270451)\n",
       " RGB{Float64}(0.0,0.724541,1.0)     RGB{Float64}(1.0,0.0,0.270451)\n",
       " RGB{Float64}(0.0,0.724541,1.0)     RGB{Float64}(1.0,0.0,0.270451)\n",
       " RGB{Float64}(0.0,0.724541,1.0)     RGB{Float64}(1.0,0.0,0.270451)\n",
       " RGB{Float64}(0.0,0.724541,1.0)     RGB{Float64}(1.0,0.0,0.270451)"
      ]
     },
     "execution_count": 48,
     "metadata": {},
     "output_type": "execute_result"
    }
   ],
   "source": [
    "xx = linspace(-10.,10.,500)\n",
    "yy = linspace(-3.,3.,500)\n",
    "zz = xx' .+ im*yy\n",
    "portrait(zz)"
   ]
  },
  {
   "cell_type": "markdown",
   "metadata": {},
   "source": [
    "## Contours\n",
    "\n",
    "**Definition (Contour)** A _contour_  is a continous & piecewise-continously differentiable function $\\gamma : [a,b] \\rightarrow {\\mathbb C}$.\n",
    "\n",
    "**Definition (Simple)** A _simple contour_ is a contour that is 1-to-1.\n",
    "\n",
    "**Definition (Closed)** A _closed contour_ is a contour such that $\\gamma(a) = \\gamma(b)$\n",
    "\n",
    "*Examples of contours*\n",
    "\n",
    "1. Line segment $[a,b]$ is a simple contour, with $\\gamma(t) =  t$\n",
    "1. Arc from $re^{ia}$ to $re^{ib}$ is a simple contour, with $\\gamma(t) =  re^{i t}$\n",
    "2. Circle of radius $r$ is a closed simple contour, with $\\gamma(t) = re^{i t}$ and $a = -\\pi$, $b = \\pi$\n",
    "3. $\\gamma(t) = \\cos (t+i)^2$ defines a contour that is not simple or closed\n",
    "4. $\\gamma(t) = e^{i t} + e^{2i t}$ for $[a,b] = [-\\pi,\\pi]$ defines a contour that is closed but not simple\n"
   ]
  },
  {
   "cell_type": "code",
   "execution_count": 53,
   "metadata": {
    "scrolled": false
   },
   "outputs": [
    {
     "data": {
      "text/html": [
       "<?xml version=\"1.0\" encoding=\"utf-8\"?>\n",
       "<svg xmlns=\"http://www.w3.org/2000/svg\" xmlns:xlink=\"http://www.w3.org/1999/xlink\" width=\"600\" height=\"400\" viewBox=\"0 0 600 400\">\n",
       "<defs>\n",
       "  <clipPath id=\"clip00\">\n",
       "    <rect x=\"0\" y=\"0\" width=\"600\" height=\"400\"/>\n",
       "  </clipPath>\n",
       "</defs>\n",
       "<polygon clip-path=\"url(#clip00)\" points=\"\n",
       "0,400 600,400 600,0 0,0 \n",
       "  \" fill=\"#ffffff\" fill-opacity=\"1\"/>\n",
       "<defs>\n",
       "  <clipPath id=\"clip01\">\n",
       "    <rect x=\"120\" y=\"0\" width=\"421\" height=\"400\"/>\n",
       "  </clipPath>\n",
       "</defs>\n",
       "<polygon clip-path=\"url(#clip00)\" points=\"\n",
       "148.167,375.813 471.292,375.813 471.292,11.811 148.167,11.811 \n",
       "  \" fill=\"#ffffff\" fill-opacity=\"1\"/>\n",
       "<defs>\n",
       "  <clipPath id=\"clip02\">\n",
       "    <rect x=\"148\" y=\"11\" width=\"324\" height=\"365\"/>\n",
       "  </clipPath>\n",
       "</defs>\n",
       "<polyline clip-path=\"url(#clip02)\" style=\"stroke:#000000; stroke-width:0.5; stroke-opacity:0.1; fill:none\" points=\"\n",
       "  161.092,370.353 161.092,17.2711 \n",
       "  \"/>\n",
       "<polyline clip-path=\"url(#clip02)\" style=\"stroke:#000000; stroke-width:0.5; stroke-opacity:0.1; fill:none\" points=\"\n",
       "  212.792,370.353 212.792,17.2711 \n",
       "  \"/>\n",
       "<polyline clip-path=\"url(#clip02)\" style=\"stroke:#000000; stroke-width:0.5; stroke-opacity:0.1; fill:none\" points=\"\n",
       "  264.492,370.353 264.492,17.2711 \n",
       "  \"/>\n",
       "<polyline clip-path=\"url(#clip02)\" style=\"stroke:#000000; stroke-width:0.5; stroke-opacity:0.1; fill:none\" points=\"\n",
       "  316.192,370.353 316.192,17.2711 \n",
       "  \"/>\n",
       "<polyline clip-path=\"url(#clip02)\" style=\"stroke:#000000; stroke-width:0.5; stroke-opacity:0.1; fill:none\" points=\"\n",
       "  367.892,370.353 367.892,17.2711 \n",
       "  \"/>\n",
       "<polyline clip-path=\"url(#clip02)\" style=\"stroke:#000000; stroke-width:0.5; stroke-opacity:0.1; fill:none\" points=\"\n",
       "  419.592,370.353 419.592,17.2711 \n",
       "  \"/>\n",
       "<polyline clip-path=\"url(#clip02)\" style=\"stroke:#000000; stroke-width:0.5; stroke-opacity:0.1; fill:none\" points=\"\n",
       "  153.014,348.912 466.445,348.912 \n",
       "  \"/>\n",
       "<polyline clip-path=\"url(#clip02)\" style=\"stroke:#000000; stroke-width:0.5; stroke-opacity:0.1; fill:none\" points=\"\n",
       "  153.014,297.212 466.445,297.212 \n",
       "  \"/>\n",
       "<polyline clip-path=\"url(#clip02)\" style=\"stroke:#000000; stroke-width:0.5; stroke-opacity:0.1; fill:none\" points=\"\n",
       "  153.014,245.512 466.445,245.512 \n",
       "  \"/>\n",
       "<polyline clip-path=\"url(#clip02)\" style=\"stroke:#000000; stroke-width:0.5; stroke-opacity:0.1; fill:none\" points=\"\n",
       "  153.014,193.812 466.445,193.812 \n",
       "  \"/>\n",
       "<polyline clip-path=\"url(#clip02)\" style=\"stroke:#000000; stroke-width:0.5; stroke-opacity:0.1; fill:none\" points=\"\n",
       "  153.014,142.111 466.445,142.111 \n",
       "  \"/>\n",
       "<polyline clip-path=\"url(#clip02)\" style=\"stroke:#000000; stroke-width:0.5; stroke-opacity:0.1; fill:none\" points=\"\n",
       "  153.014,90.4114 466.445,90.4114 \n",
       "  \"/>\n",
       "<polyline clip-path=\"url(#clip02)\" style=\"stroke:#000000; stroke-width:0.5; stroke-opacity:0.1; fill:none\" points=\"\n",
       "  153.014,38.7113 466.445,38.7113 \n",
       "  \"/>\n",
       "<polyline clip-path=\"url(#clip00)\" style=\"stroke:#000000; stroke-width:1; stroke-opacity:1; fill:none\" points=\"\n",
       "  148.167,375.813 471.292,375.813 \n",
       "  \"/>\n",
       "<polyline clip-path=\"url(#clip00)\" style=\"stroke:#000000; stroke-width:1; stroke-opacity:1; fill:none\" points=\"\n",
       "  161.092,375.813 161.092,370.353 \n",
       "  \"/>\n",
       "<polyline clip-path=\"url(#clip00)\" style=\"stroke:#000000; stroke-width:1; stroke-opacity:1; fill:none\" points=\"\n",
       "  212.792,375.813 212.792,370.353 \n",
       "  \"/>\n",
       "<polyline clip-path=\"url(#clip00)\" style=\"stroke:#000000; stroke-width:1; stroke-opacity:1; fill:none\" points=\"\n",
       "  264.492,375.813 264.492,370.353 \n",
       "  \"/>\n",
       "<polyline clip-path=\"url(#clip00)\" style=\"stroke:#000000; stroke-width:1; stroke-opacity:1; fill:none\" points=\"\n",
       "  316.192,375.813 316.192,370.353 \n",
       "  \"/>\n",
       "<polyline clip-path=\"url(#clip00)\" style=\"stroke:#000000; stroke-width:1; stroke-opacity:1; fill:none\" points=\"\n",
       "  367.892,375.813 367.892,370.353 \n",
       "  \"/>\n",
       "<polyline clip-path=\"url(#clip00)\" style=\"stroke:#000000; stroke-width:1; stroke-opacity:1; fill:none\" points=\"\n",
       "  419.592,375.813 419.592,370.353 \n",
       "  \"/>\n",
       "<polyline clip-path=\"url(#clip00)\" style=\"stroke:#000000; stroke-width:1; stroke-opacity:1; fill:none\" points=\"\n",
       "  148.167,375.813 148.167,11.811 \n",
       "  \"/>\n",
       "<polyline clip-path=\"url(#clip00)\" style=\"stroke:#000000; stroke-width:1; stroke-opacity:1; fill:none\" points=\"\n",
       "  148.167,348.912 153.014,348.912 \n",
       "  \"/>\n",
       "<polyline clip-path=\"url(#clip00)\" style=\"stroke:#000000; stroke-width:1; stroke-opacity:1; fill:none\" points=\"\n",
       "  148.167,297.212 153.014,297.212 \n",
       "  \"/>\n",
       "<polyline clip-path=\"url(#clip00)\" style=\"stroke:#000000; stroke-width:1; stroke-opacity:1; fill:none\" points=\"\n",
       "  148.167,245.512 153.014,245.512 \n",
       "  \"/>\n",
       "<polyline clip-path=\"url(#clip00)\" style=\"stroke:#000000; stroke-width:1; stroke-opacity:1; fill:none\" points=\"\n",
       "  148.167,193.812 153.014,193.812 \n",
       "  \"/>\n",
       "<polyline clip-path=\"url(#clip00)\" style=\"stroke:#000000; stroke-width:1; stroke-opacity:1; fill:none\" points=\"\n",
       "  148.167,142.111 153.014,142.111 \n",
       "  \"/>\n",
       "<polyline clip-path=\"url(#clip00)\" style=\"stroke:#000000; stroke-width:1; stroke-opacity:1; fill:none\" points=\"\n",
       "  148.167,90.4114 153.014,90.4114 \n",
       "  \"/>\n",
       "<polyline clip-path=\"url(#clip00)\" style=\"stroke:#000000; stroke-width:1; stroke-opacity:1; fill:none\" points=\"\n",
       "  148.167,38.7113 153.014,38.7113 \n",
       "  \"/>\n",
       "<g clip-path=\"url(#clip00)\">\n",
       "<text style=\"fill:#000000; fill-opacity:1; font-family:Arial,Helvetica Neue,Helvetica,sans-serif; font-size:12; text-anchor:middle;\" transform=\"rotate(0, 161.092, 389.613)\" x=\"161.092\" y=\"389.613\">-1.0</text>\n",
       "</g>\n",
       "<g clip-path=\"url(#clip00)\">\n",
       "<text style=\"fill:#000000; fill-opacity:1; font-family:Arial,Helvetica Neue,Helvetica,sans-serif; font-size:12; text-anchor:middle;\" transform=\"rotate(0, 212.792, 389.613)\" x=\"212.792\" y=\"389.613\">-0.5</text>\n",
       "</g>\n",
       "<g clip-path=\"url(#clip00)\">\n",
       "<text style=\"fill:#000000; fill-opacity:1; font-family:Arial,Helvetica Neue,Helvetica,sans-serif; font-size:12; text-anchor:middle;\" transform=\"rotate(0, 264.492, 389.613)\" x=\"264.492\" y=\"389.613\">0.0</text>\n",
       "</g>\n",
       "<g clip-path=\"url(#clip00)\">\n",
       "<text style=\"fill:#000000; fill-opacity:1; font-family:Arial,Helvetica Neue,Helvetica,sans-serif; font-size:12; text-anchor:middle;\" transform=\"rotate(0, 316.192, 389.613)\" x=\"316.192\" y=\"389.613\">0.5</text>\n",
       "</g>\n",
       "<g clip-path=\"url(#clip00)\">\n",
       "<text style=\"fill:#000000; fill-opacity:1; font-family:Arial,Helvetica Neue,Helvetica,sans-serif; font-size:12; text-anchor:middle;\" transform=\"rotate(0, 367.892, 389.613)\" x=\"367.892\" y=\"389.613\">1.0</text>\n",
       "</g>\n",
       "<g clip-path=\"url(#clip00)\">\n",
       "<text style=\"fill:#000000; fill-opacity:1; font-family:Arial,Helvetica Neue,Helvetica,sans-serif; font-size:12; text-anchor:middle;\" transform=\"rotate(0, 419.592, 389.613)\" x=\"419.592\" y=\"389.613\">1.5</text>\n",
       "</g>\n",
       "<g clip-path=\"url(#clip00)\">\n",
       "<text style=\"fill:#000000; fill-opacity:1; font-family:Arial,Helvetica Neue,Helvetica,sans-serif; font-size:12; text-anchor:end;\" transform=\"rotate(0, 142.167, 353.412)\" x=\"142.167\" y=\"353.412\">-1.5</text>\n",
       "</g>\n",
       "<g clip-path=\"url(#clip00)\">\n",
       "<text style=\"fill:#000000; fill-opacity:1; font-family:Arial,Helvetica Neue,Helvetica,sans-serif; font-size:12; text-anchor:end;\" transform=\"rotate(0, 142.167, 301.712)\" x=\"142.167\" y=\"301.712\">-1.0</text>\n",
       "</g>\n",
       "<g clip-path=\"url(#clip00)\">\n",
       "<text style=\"fill:#000000; fill-opacity:1; font-family:Arial,Helvetica Neue,Helvetica,sans-serif; font-size:12; text-anchor:end;\" transform=\"rotate(0, 142.167, 250.012)\" x=\"142.167\" y=\"250.012\">-0.5</text>\n",
       "</g>\n",
       "<g clip-path=\"url(#clip00)\">\n",
       "<text style=\"fill:#000000; fill-opacity:1; font-family:Arial,Helvetica Neue,Helvetica,sans-serif; font-size:12; text-anchor:end;\" transform=\"rotate(0, 142.167, 198.312)\" x=\"142.167\" y=\"198.312\">0.0</text>\n",
       "</g>\n",
       "<g clip-path=\"url(#clip00)\">\n",
       "<text style=\"fill:#000000; fill-opacity:1; font-family:Arial,Helvetica Neue,Helvetica,sans-serif; font-size:12; text-anchor:end;\" transform=\"rotate(0, 142.167, 146.611)\" x=\"142.167\" y=\"146.611\">0.5</text>\n",
       "</g>\n",
       "<g clip-path=\"url(#clip00)\">\n",
       "<text style=\"fill:#000000; fill-opacity:1; font-family:Arial,Helvetica Neue,Helvetica,sans-serif; font-size:12; text-anchor:end;\" transform=\"rotate(0, 142.167, 94.9114)\" x=\"142.167\" y=\"94.9114\">1.0</text>\n",
       "</g>\n",
       "<g clip-path=\"url(#clip00)\">\n",
       "<text style=\"fill:#000000; fill-opacity:1; font-family:Arial,Helvetica Neue,Helvetica,sans-serif; font-size:12; text-anchor:end;\" transform=\"rotate(0, 142.167, 43.2113)\" x=\"142.167\" y=\"43.2113\">1.5</text>\n",
       "</g>\n",
       "<polyline clip-path=\"url(#clip02)\" style=\"stroke:#009af9; stroke-width:1; stroke-opacity:1; fill:none\" points=\"\n",
       "  264.492,193.812 264.486,193.194 264.47,192.576 264.442,191.959 264.403,191.342 264.354,190.726 264.293,190.11 264.221,189.496 264.138,188.882 264.044,188.27 \n",
       "  263.939,187.659 263.823,187.05 263.696,186.442 263.558,185.836 263.41,185.233 263.25,184.631 263.08,184.032 262.899,183.435 262.707,182.841 262.504,182.249 \n",
       "  262.29,181.66 262.066,181.075 261.831,180.493 261.586,179.914 261.33,179.338 261.063,178.766 260.786,178.198 260.499,177.634 260.201,177.074 259.893,176.518 \n",
       "  259.575,175.967 259.246,175.42 258.908,174.878 258.559,174.34 258.2,173.808 257.832,173.281 257.453,172.758 257.065,172.242 256.667,171.73 256.259,171.225 \n",
       "  255.842,170.725 255.415,170.231 254.978,169.743 254.533,169.262 254.078,168.786 253.613,168.317 253.14,167.855 252.658,167.4 252.166,166.951 251.666,166.509 \n",
       "  251.157,166.074 250.64,165.647 250.114,165.227 249.579,164.814 249.036,164.409 248.484,164.012 247.925,163.622 247.357,163.24 246.781,162.867 246.198,162.502 \n",
       "  245.607,162.145 245.008,161.796 244.401,161.456 243.787,161.124 243.166,160.802 242.537,160.488 241.901,160.183 241.259,159.887 240.609,159.6 239.953,159.323 \n",
       "  239.29,159.055 238.62,158.796 237.944,158.547 237.262,158.307 236.574,158.078 235.879,157.858 235.179,157.648 234.473,157.448 233.761,157.258 233.044,157.079 \n",
       "  232.322,156.909 231.594,156.75 230.861,156.602 230.123,156.464 229.38,156.337 228.633,156.22 227.881,156.114 227.125,156.019 226.364,155.935 225.599,155.861 \n",
       "  224.831,155.799 224.058,155.748 223.282,155.708 222.502,155.68 221.719,155.662 220.932,155.656 220.142,155.661 219.35,155.678 218.554,155.706 217.756,155.746 \n",
       "  216.956,155.798 216.153,155.861 215.347,155.936 214.54,156.022 213.731,156.121 212.92,156.231 212.107,156.353 211.294,156.487 210.478,156.633 209.662,156.791 \n",
       "  208.844,156.96 208.026,157.142 207.207,157.336 206.388,157.542 205.568,157.76 204.748,157.991 203.928,158.233 203.109,158.488 202.289,158.754 201.47,159.033 \n",
       "  200.652,159.324 199.834,159.628 199.017,159.943 198.201,160.271 197.387,160.611 196.574,160.963 195.763,161.327 194.953,161.704 194.145,162.093 193.339,162.494 \n",
       "  192.536,162.907 191.735,163.332 190.936,163.77 190.14,164.219 189.347,164.681 188.557,165.155 187.77,165.641 186.987,166.139 186.206,166.649 185.43,167.171 \n",
       "  184.658,167.705 183.889,168.251 183.125,168.809 182.364,169.379 181.609,169.961 180.858,170.554 180.111,171.159 179.37,171.776 178.634,172.405 177.903,173.045 \n",
       "  177.177,173.697 176.457,174.36 175.743,175.035 175.034,175.721 174.332,176.419 173.635,177.127 172.945,177.847 172.262,178.579 171.585,179.321 170.915,180.074 \n",
       "  170.252,180.839 169.595,181.614 168.946,182.4 168.305,183.197 167.671,184.005 167.044,184.823 166.426,185.651 165.815,186.49 165.213,187.34 164.618,188.199 \n",
       "  164.032,189.069 163.455,189.949 162.886,190.839 162.326,191.739 161.775,192.649 161.233,193.568 160.7,194.497 160.177,195.435 159.662,196.383 159.158,197.341 \n",
       "  158.663,198.307 158.178,199.283 157.703,200.267 157.239,201.261 156.784,202.263 156.34,203.274 155.906,204.293 155.483,205.321 155.07,206.357 154.669,207.401 \n",
       "  154.278,208.454 153.898,209.514 153.53,210.582 153.173,211.658 152.827,212.742 152.493,213.832 152.17,214.931 151.859,216.036 151.56,217.149 151.273,218.268 \n",
       "  150.998,219.394 150.735,220.527 150.485,221.666 150.246,222.812 150.021,223.964 149.807,225.122 149.606,226.286 149.418,227.455 149.243,228.631 149.081,229.812 \n",
       "  148.931,230.998 148.795,232.19 148.672,233.386 148.562,234.588 148.465,235.794 148.382,237.005 148.312,238.22 148.256,239.44 148.214,240.663 148.185,241.891 \n",
       "  148.169,243.123 148.168,244.358 148.18,245.597 148.207,246.839 148.247,248.084 148.301,249.333 148.37,250.584 148.452,251.838 148.549,253.094 148.66,254.353 \n",
       "  148.786,255.614 148.926,256.877 149.08,258.142 149.249,259.408 149.432,260.676 149.629,261.946 149.842,263.217 150.068,264.488 150.31,265.761 150.566,267.034 \n",
       "  150.837,268.308 151.122,269.582 151.423,270.856 151.738,272.13 152.068,273.404 152.412,274.678 152.772,275.951 153.146,277.224 153.535,278.495 153.939,279.766 \n",
       "  154.358,281.035 154.792,282.303 155.241,283.569 155.704,284.833 156.183,286.096 156.676,287.356 157.184,288.614 157.707,289.87 158.245,291.123 158.798,292.373 \n",
       "  159.365,293.62 159.948,294.864 160.545,296.105 161.157,297.342 161.784,298.575 162.425,299.805 163.081,301.03 163.752,302.251 164.438,303.468 165.138,304.68 \n",
       "  165.853,305.887 166.582,307.09 167.326,308.287 168.084,309.479 168.857,310.666 169.644,311.847 170.446,313.022 171.261,314.191 172.091,315.354 172.936,316.511 \n",
       "  173.794,317.661 174.666,318.805 175.553,319.941 176.453,321.071 177.368,322.193 178.296,323.309 179.238,324.416 180.193,325.516 181.163,326.608 182.145,327.692 \n",
       "  183.142,328.768 184.151,329.836 185.174,330.895 186.211,331.945 187.26,332.987 188.323,334.019 189.398,335.043 190.486,336.057 191.588,337.061 192.701,338.056 \n",
       "  193.828,339.042 194.967,340.017 196.119,340.982 197.282,341.937 198.458,342.882 199.647,343.816 200.847,344.739 202.059,345.651 203.283,346.553 204.518,347.443 \n",
       "  205.765,348.322 207.024,349.19 208.294,350.046 209.575,350.891 210.867,351.723 212.171,352.544 213.485,353.352 214.81,354.148 216.145,354.932 217.491,355.703 \n",
       "  218.848,356.462 220.214,357.207 221.591,357.94 222.977,358.66 224.374,359.367 225.78,360.06 227.196,360.74 228.621,361.406 230.055,362.059 231.498,362.698 \n",
       "  232.951,363.323 234.412,363.934 235.882,364.531 237.36,365.114 238.847,365.682 240.342,366.236 241.845,366.775 243.356,367.3 244.875,367.81 246.402,368.305 \n",
       "  247.935,368.785 249.477,369.25 251.025,369.699 252.58,370.134 254.142,370.553 255.711,370.957 257.286,371.345 258.867,371.718 260.455,372.075 262.049,372.416 \n",
       "  263.648,372.741 265.253,373.05 266.863,373.344 268.479,373.621 270.1,373.882 271.726,374.127 273.356,374.355 274.991,374.567 276.631,374.763 278.274,374.942 \n",
       "  279.922,375.105 281.574,375.251 283.229,375.38 284.888,375.493 286.55,375.588 288.216,375.667 289.884,375.729 291.555,375.774 293.228,375.802 294.904,375.813 \n",
       "  296.583,375.807 298.263,375.784 299.945,375.744 301.629,375.687 303.314,375.612 305.001,375.52 306.688,375.411 308.377,375.285 310.066,375.141 311.756,374.98 \n",
       "  313.446,374.801 315.136,374.605 316.826,374.392 318.516,374.162 320.206,373.914 321.894,373.648 323.583,373.365 325.27,373.065 326.955,372.747 328.64,372.412 \n",
       "  330.323,372.06 332.004,371.69 333.683,371.302 335.36,370.897 337.035,370.475 338.707,370.035 340.376,369.578 342.042,369.104 343.706,368.613 345.366,368.104 \n",
       "  347.022,367.577 348.675,367.034 350.324,366.473 351.969,365.895 353.609,365.3 355.245,364.688 356.877,364.059 358.503,363.412 360.125,362.749 361.741,362.069 \n",
       "  363.352,361.372 364.958,360.658 366.557,359.927 368.151,359.179 369.738,358.415 371.319,357.634 372.894,356.836 374.462,356.022 376.023,355.192 377.577,354.345 \n",
       "  379.124,353.482 380.663,352.602 382.195,351.706 383.719,350.795 385.234,349.867 386.742,348.923 388.242,347.963 389.733,346.988 391.215,345.997 392.688,344.99 \n",
       "  394.152,343.967 395.608,342.93 397.053,341.876 398.489,340.808 399.916,339.724 401.333,338.626 402.739,337.512 404.135,336.384 405.521,335.241 406.897,334.083 \n",
       "  408.261,332.91 409.615,331.724 410.958,330.522 412.289,329.307 413.609,328.078 414.918,326.834 416.215,325.577 417.5,324.306 418.773,323.021 420.034,321.723 \n",
       "  421.283,320.412 422.52,319.087 423.743,317.749 424.954,316.398 426.152,315.035 427.338,313.658 428.51,312.27 429.668,310.868 430.813,309.455 431.945,308.029 \n",
       "  433.063,306.591 434.167,305.141 435.257,303.68 436.333,302.207 437.395,300.723 438.443,299.227 439.476,297.72 440.494,296.203 441.498,294.674 442.486,293.135 \n",
       "  443.46,291.585 444.419,290.025 445.362,288.455 446.29,286.875 447.203,285.285 448.1,283.685 448.982,282.076 449.848,280.457 450.697,278.829 451.531,277.193 \n",
       "  452.349,275.547 453.151,273.893 453.936,272.23 454.705,270.558 455.458,268.879 456.194,267.192 456.914,265.497 457.616,263.794 458.302,262.084 458.972,260.366 \n",
       "  459.624,258.641 460.259,256.91 460.877,255.172 461.477,253.427 462.061,251.676 462.627,249.919 463.176,248.155 463.707,246.386 464.221,244.611 464.717,242.831 \n",
       "  465.195,241.046 465.656,239.256 466.099,237.46 466.524,235.66 466.932,233.856 467.321,232.047 467.692,230.235 468.046,228.418 468.381,226.598 468.698,224.774 \n",
       "  468.997,222.946 469.278,221.116 469.541,219.283 469.785,217.447 470.011,215.609 470.219,213.768 470.409,211.925 470.58,210.08 470.733,208.233 470.867,206.385 \n",
       "  470.983,204.536 471.081,202.685 471.16,200.833 471.22,198.981 471.263,197.128 471.286,195.275 471.292,193.421 471.279,191.568 471.247,189.715 471.197,187.862 \n",
       "  471.129,186.01 471.042,184.159 470.936,182.309 470.813,180.46 470.67,178.612 470.51,176.766 470.331,174.922 470.134,173.08 469.918,171.24 469.684,169.403 \n",
       "  469.432,167.568 469.162,165.736 468.874,163.907 468.567,162.081 468.242,160.259 467.899,158.44 467.538,156.625 467.159,154.814 466.762,153.007 466.348,151.204 \n",
       "  465.915,149.406 465.464,147.613 464.996,145.825 464.51,144.042 464.007,142.264 463.486,140.491 462.947,138.725 462.391,136.964 461.817,135.209 461.227,133.461 \n",
       "  460.619,131.719 459.993,129.983 459.351,128.255 458.692,126.533 458.016,124.819 457.323,123.111 456.613,121.412 455.886,119.72 455.143,118.036 454.384,116.36 \n",
       "  453.608,114.692 452.815,113.033 452.007,111.382 451.182,109.74 450.342,108.107 449.485,106.483 448.612,104.868 447.724,103.263 446.821,101.667 445.901,100.082 \n",
       "  444.967,98.5056 444.017,96.9396 443.052,95.384 442.072,93.8387 441.077,92.304 440.067,90.78 439.042,89.2669 438.003,87.7649 436.95,86.274 435.882,84.7944 \n",
       "  434.8,83.3263 433.704,81.8699 432.594,80.4252 431.47,78.9925 430.333,77.5718 429.182,76.1634 428.018,74.7673 426.84,73.3836 425.65,72.0126 424.446,70.6544 \n",
       "  423.23,69.3091 422,67.9768 420.759,66.6576 419.505,65.3518 418.239,64.0593 416.961,62.7804 415.67,61.5151 414.368,60.2637 413.055,59.0261 411.73,57.8026 \n",
       "  410.394,56.5932 409.046,55.3981 407.688,54.2173 406.319,53.051 404.939,51.8993 403.549,50.7623 402.148,49.6401 400.737,48.5328 399.317,47.4405 397.886,46.3633 \n",
       "  396.446,45.3013 394.996,44.2546 393.537,43.2233 392.069,42.2075 390.592,41.2073 389.106,40.2227 387.611,39.2539 386.108,38.3008 384.597,37.3637 383.078,36.4426 \n",
       "  381.551,35.5376 380.016,34.6487 378.473,33.776 376.924,32.9196 375.367,32.0796 373.803,31.256 372.232,30.4489 370.654,29.6583 369.071,28.8843 367.481,28.127 \n",
       "  365.884,27.3865 364.282,26.6627 362.675,25.9557 361.061,25.2657 359.443,24.5925 357.819,23.9364 356.19,23.2973 354.557,22.6752 352.919,22.0702 351.277,21.4824 \n",
       "  349.63,20.9117 347.979,20.3583 346.325,19.8221 344.667,19.3031 343.006,18.8014 341.341,18.3171 339.673,17.8501 338.003,17.4004 336.33,16.9681 334.654,16.5532 \n",
       "  332.976,16.1557 331.296,15.7756 329.614,15.413 327.931,15.0677 326.246,14.7399 324.559,14.4295 322.872,14.1366 321.183,13.861 319.494,13.6029 317.805,13.3622 \n",
       "  316.115,13.139 314.424,12.9331 312.734,12.7446 311.044,12.5734 309.355,12.4196 307.666,12.2832 305.978,12.164 304.29,12.0622 302.604,11.9775 300.92,11.9102 \n",
       "  299.237,11.86 297.555,11.8269 295.876,11.811 294.198,11.8122 292.523,11.8304 290.851,11.8657 289.181,11.9179 287.514,11.987 285.85,12.0731 284.189,12.1759 \n",
       "  282.532,12.2955 280.878,12.4318 279.228,12.5848 277.582,12.7543 275.94,12.9405 274.302,13.1431 272.669,13.3621 271.04,13.5974 269.417,13.8491 267.798,14.1169 \n",
       "  266.185,14.4009 264.576,14.701 262.974,15.0171 261.377,15.349 259.786,15.6968 258.201,16.0603 256.622,16.4395 255.049,16.8343 253.484,17.2446 251.924,17.6703 \n",
       "  250.372,18.1112 248.827,18.5674 247.289,19.0388 245.758,19.5251 244.235,20.0264 242.719,20.5425 241.211,21.0733 239.712,21.6188 238.22,22.1787 236.737,22.7531 \n",
       "  235.262,23.3418 233.796,23.9447 232.338,24.5616 230.889,25.1925 229.45,25.8372 228.019,26.4957 226.598,27.1678 225.187,27.8534 223.785,28.5523 222.392,29.2645 \n",
       "  221.01,29.9898 219.637,30.7281 218.275,31.4793 216.923,32.2432 215.582,33.0197 214.251,33.8087 212.93,34.61 211.621,35.4235 210.322,36.2491 209.034,37.0867 \n",
       "  207.758,37.936 206.493,38.7969 205.239,39.6694 203.997,40.5533 202.766,41.4483 201.547,42.3545 200.34,43.2715 199.145,44.1994 197.962,45.1378 196.791,46.0868 \n",
       "  195.632,47.0461 194.486,48.0156 193.352,48.9951 192.231,49.9844 191.122,50.9835 190.027,51.9922 188.944,53.0102 187.874,54.0375 186.817,55.0738 185.773,56.1191 \n",
       "  184.742,57.1732 183.725,58.2358 182.721,59.3069 181.73,60.3863 180.753,61.4738 179.789,62.5692 178.839,63.6724 177.903,64.7832 176.981,65.9014 176.072,67.027 \n",
       "  175.178,68.1596 174.297,69.2992 173.431,70.4455 172.578,71.5985 171.74,72.7578 170.916,73.9234 170.106,75.0951 169.311,76.2728 168.53,77.4561 167.763,78.645 \n",
       "  167.011,79.8393 166.273,81.0388 165.55,82.2434 164.841,83.4528 164.147,84.667 163.468,85.8856 162.803,87.1086 162.153,88.3357 161.518,89.5668 160.897,90.8018 \n",
       "  160.292,92.0404 159.701,93.2824 159.125,94.5277 158.563,95.7761 158.017,97.0275 157.485,98.2816 156.968,99.5383 156.466,100.797 155.979,102.059 155.507,103.322 \n",
       "  155.05,104.587 154.608,105.854 154.18,107.123 153.767,108.392 153.37,109.663 152.987,110.935 152.619,112.208 152.265,113.481 151.927,114.755 151.603,116.029 \n",
       "  151.295,117.303 151,118.578 150.721,119.852 150.456,121.125 150.206,122.398 149.971,123.67 149.75,124.942 149.544,126.212 149.353,127.481 149.176,128.748 \n",
       "  149.013,130.014 148.865,131.278 148.731,132.54 148.612,133.801 148.507,135.058 148.416,136.314 148.339,137.566 148.277,138.816 148.228,140.064 148.194,141.308 \n",
       "  148.173,142.548 148.167,143.786 148.174,145.019 148.195,146.249 148.23,147.475 148.278,148.697 148.34,149.915 148.416,151.129 148.505,152.338 148.607,153.542 \n",
       "  148.722,154.741 148.851,155.936 148.993,157.125 149.148,158.309 149.315,159.488 149.496,160.661 149.689,161.828 149.895,162.99 150.114,164.145 150.345,165.294 \n",
       "  150.589,166.437 150.845,167.574 151.113,168.704 151.393,169.827 151.685,170.944 151.989,172.053 152.305,173.156 152.632,174.251 152.971,175.339 153.322,176.419 \n",
       "  153.684,177.492 154.057,178.556 154.441,179.613 154.836,180.662 155.243,181.703 155.66,182.736 156.087,183.76 156.526,184.776 156.974,185.783 157.433,186.782 \n",
       "  157.902,187.772 158.381,188.752 158.87,189.724 159.369,190.687 159.878,191.64 160.396,192.584 160.923,193.518 161.46,194.443 162.006,195.359 162.561,196.264 \n",
       "  163.124,197.16 163.697,198.046 164.278,198.921 164.868,199.787 165.465,200.642 166.071,201.487 166.685,202.322 167.307,203.146 167.937,203.96 168.574,204.763 \n",
       "  169.219,205.555 169.871,206.337 170.53,207.107 171.196,207.867 171.869,208.616 172.549,209.354 173.235,210.08 173.928,210.796 174.627,211.5 175.332,212.192 \n",
       "  176.043,212.874 176.76,213.544 177.482,214.202 178.21,214.849 178.943,215.484 179.682,216.108 180.425,216.72 181.173,217.32 181.926,217.909 182.684,218.486 \n",
       "  183.446,219.05 184.212,219.603 184.982,220.144 185.757,220.673 186.534,221.19 187.316,221.695 188.101,222.188 188.889,222.669 189.681,223.138 190.475,223.595 \n",
       "  191.272,224.039 192.072,224.472 192.874,224.892 193.678,225.3 194.485,225.696 195.294,226.079 196.104,226.451 196.916,226.81 197.73,227.157 198.545,227.492 \n",
       "  199.361,227.814 200.178,228.125 200.996,228.423 201.815,228.709 202.634,228.983 203.454,229.244 204.274,229.494 205.094,229.731 205.913,229.956 206.733,230.169 \n",
       "  207.552,230.37 208.371,230.559 209.189,230.736 210.006,230.9 210.822,231.053 211.636,231.194 212.45,231.323 213.262,231.44 214.072,231.545 214.88,231.639 \n",
       "  215.687,231.72 216.491,231.79 217.293,231.848 218.093,231.895 218.89,231.93 219.684,231.953 220.475,231.965 221.264,231.966 222.049,231.955 222.831,231.933 \n",
       "  223.609,231.899 224.384,231.855 225.155,231.799 225.922,231.732 226.685,231.654 227.444,231.565 228.198,231.466 228.948,231.355 229.694,231.234 230.434,231.102 \n",
       "  231.17,230.96 231.901,230.807 232.626,230.644 233.347,230.47 234.062,230.286 234.771,230.092 235.475,229.888 236.172,229.674 236.864,229.45 237.55,229.216 \n",
       "  238.229,228.973 238.903,228.719 239.57,228.457 240.23,228.185 240.883,227.903 241.53,227.613 242.17,227.313 242.802,227.004 243.428,226.687 244.046,226.36 \n",
       "  244.657,226.025 245.261,225.681 245.856,225.329 246.445,224.969 247.025,224.6 247.597,224.223 248.161,223.838 248.718,223.445 249.265,223.044 249.805,222.636 \n",
       "  \n",
       "  \"/>\n",
       "<polygon clip-path=\"url(#clip00)\" points=\"\n",
       "380.776,62.931 453.292,62.931 453.292,32.691 380.776,32.691 \n",
       "  \" fill=\"#ffffff\" fill-opacity=\"1\"/>\n",
       "<polyline clip-path=\"url(#clip00)\" style=\"stroke:#000000; stroke-width:1; stroke-opacity:1; fill:none\" points=\"\n",
       "  380.776,62.931 453.292,62.931 453.292,32.691 380.776,32.691 380.776,62.931 \n",
       "  \"/>\n",
       "<polyline clip-path=\"url(#clip00)\" style=\"stroke:#009af9; stroke-width:1; stroke-opacity:1; fill:none\" points=\"\n",
       "  386.776,47.811 422.776,47.811 \n",
       "  \"/>\n",
       "<g clip-path=\"url(#clip00)\">\n",
       "<text style=\"fill:#000000; fill-opacity:1; font-family:Arial,Helvetica Neue,Helvetica,sans-serif; font-size:12; text-anchor:start;\" transform=\"rotate(0, 428.776, 52.311)\" x=\"428.776\" y=\"52.311\">y1</text>\n",
       "</g>\n",
       "</svg>\n"
      ]
     },
     "execution_count": 53,
     "metadata": {},
     "output_type": "execute_result"
    }
   ],
   "source": [
    "a,b = -π, 0.9π\n",
    "tt = linspace(a, b, 1000)\n",
    "\n",
    "γ = t -> exp(im*t) +exp(2im*t)\n",
    "\n",
    "plot(real.(γ.(tt)), imag.(γ.(tt)); ratio=1.0)\n"
   ]
  },
  {
   "cell_type": "markdown",
   "metadata": {},
   "source": [
    "## Contour integrals\n",
    "\n",
    "**Definition (Contour integral)** The _contour integral_ over $\\gamma$ is defined by\n",
    "$$\n",
    "\\int_\\gamma f(z) dz := \\int_a^b f(\\gamma(t)) \\gamma'(t) dt\n",
    "$$\n",
    "\n"
   ]
  },
  {
   "cell_type": "code",
   "execution_count": 55,
   "metadata": {},
   "outputs": [
    {
     "data": {
      "text/html": [
       "<?xml version=\"1.0\" encoding=\"utf-8\"?>\n",
       "<svg xmlns=\"http://www.w3.org/2000/svg\" xmlns:xlink=\"http://www.w3.org/1999/xlink\" width=\"600\" height=\"400\" viewBox=\"0 0 600 400\">\n",
       "<defs>\n",
       "  <clipPath id=\"clip00\">\n",
       "    <rect x=\"0\" y=\"0\" width=\"600\" height=\"400\"/>\n",
       "  </clipPath>\n",
       "</defs>\n",
       "<polygon clip-path=\"url(#clip00)\" points=\"\n",
       "0,400 600,400 600,0 0,0 \n",
       "  \" fill=\"#ffffff\" fill-opacity=\"1\"/>\n",
       "<defs>\n",
       "  <clipPath id=\"clip01\">\n",
       "    <rect x=\"120\" y=\"0\" width=\"421\" height=\"400\"/>\n",
       "  </clipPath>\n",
       "</defs>\n",
       "<polygon clip-path=\"url(#clip00)\" points=\"\n",
       "124.267,375.813 488.27,375.813 488.27,11.811 124.267,11.811 \n",
       "  \" fill=\"#ffffff\" fill-opacity=\"1\"/>\n",
       "<defs>\n",
       "  <clipPath id=\"clip02\">\n",
       "    <rect x=\"124\" y=\"11\" width=\"365\" height=\"365\"/>\n",
       "  </clipPath>\n",
       "</defs>\n",
       "<polyline clip-path=\"url(#clip02)\" style=\"stroke:#000000; stroke-width:0.5; stroke-opacity:0.1; fill:none\" points=\"\n",
       "  197.052,370.353 197.052,17.2711 \n",
       "  \"/>\n",
       "<polyline clip-path=\"url(#clip02)\" style=\"stroke:#000000; stroke-width:0.5; stroke-opacity:0.1; fill:none\" points=\"\n",
       "  269.856,370.353 269.856,17.2711 \n",
       "  \"/>\n",
       "<polyline clip-path=\"url(#clip02)\" style=\"stroke:#000000; stroke-width:0.5; stroke-opacity:0.1; fill:none\" points=\"\n",
       "  342.661,370.353 342.661,17.2711 \n",
       "  \"/>\n",
       "<polyline clip-path=\"url(#clip02)\" style=\"stroke:#000000; stroke-width:0.5; stroke-opacity:0.1; fill:none\" points=\"\n",
       "  415.465,370.353 415.465,17.2711 \n",
       "  \"/>\n",
       "<polyline clip-path=\"url(#clip02)\" style=\"stroke:#000000; stroke-width:0.5; stroke-opacity:0.1; fill:none\" points=\"\n",
       "  129.727,303.029 482.81,303.029 \n",
       "  \"/>\n",
       "<polyline clip-path=\"url(#clip02)\" style=\"stroke:#000000; stroke-width:0.5; stroke-opacity:0.1; fill:none\" points=\"\n",
       "  129.727,230.225 482.81,230.225 \n",
       "  \"/>\n",
       "<polyline clip-path=\"url(#clip02)\" style=\"stroke:#000000; stroke-width:0.5; stroke-opacity:0.1; fill:none\" points=\"\n",
       "  129.727,157.42 482.81,157.42 \n",
       "  \"/>\n",
       "<polyline clip-path=\"url(#clip02)\" style=\"stroke:#000000; stroke-width:0.5; stroke-opacity:0.1; fill:none\" points=\"\n",
       "  129.727,84.6156 482.81,84.6156 \n",
       "  \"/>\n",
       "<polyline clip-path=\"url(#clip00)\" style=\"stroke:#000000; stroke-width:1; stroke-opacity:1; fill:none\" points=\"\n",
       "  124.267,375.813 488.27,375.813 \n",
       "  \"/>\n",
       "<polyline clip-path=\"url(#clip00)\" style=\"stroke:#000000; stroke-width:1; stroke-opacity:1; fill:none\" points=\"\n",
       "  197.052,375.813 197.052,370.353 \n",
       "  \"/>\n",
       "<polyline clip-path=\"url(#clip00)\" style=\"stroke:#000000; stroke-width:1; stroke-opacity:1; fill:none\" points=\"\n",
       "  269.856,375.813 269.856,370.353 \n",
       "  \"/>\n",
       "<polyline clip-path=\"url(#clip00)\" style=\"stroke:#000000; stroke-width:1; stroke-opacity:1; fill:none\" points=\"\n",
       "  342.661,375.813 342.661,370.353 \n",
       "  \"/>\n",
       "<polyline clip-path=\"url(#clip00)\" style=\"stroke:#000000; stroke-width:1; stroke-opacity:1; fill:none\" points=\"\n",
       "  415.465,375.813 415.465,370.353 \n",
       "  \"/>\n",
       "<polyline clip-path=\"url(#clip00)\" style=\"stroke:#000000; stroke-width:1; stroke-opacity:1; fill:none\" points=\"\n",
       "  124.267,375.813 124.267,11.811 \n",
       "  \"/>\n",
       "<polyline clip-path=\"url(#clip00)\" style=\"stroke:#000000; stroke-width:1; stroke-opacity:1; fill:none\" points=\"\n",
       "  124.267,303.029 129.727,303.029 \n",
       "  \"/>\n",
       "<polyline clip-path=\"url(#clip00)\" style=\"stroke:#000000; stroke-width:1; stroke-opacity:1; fill:none\" points=\"\n",
       "  124.267,230.225 129.727,230.225 \n",
       "  \"/>\n",
       "<polyline clip-path=\"url(#clip00)\" style=\"stroke:#000000; stroke-width:1; stroke-opacity:1; fill:none\" points=\"\n",
       "  124.267,157.42 129.727,157.42 \n",
       "  \"/>\n",
       "<polyline clip-path=\"url(#clip00)\" style=\"stroke:#000000; stroke-width:1; stroke-opacity:1; fill:none\" points=\"\n",
       "  124.267,84.6156 129.727,84.6156 \n",
       "  \"/>\n",
       "<g clip-path=\"url(#clip00)\">\n",
       "<text style=\"fill:#000000; fill-opacity:1; font-family:Arial,Helvetica Neue,Helvetica,sans-serif; font-size:12; text-anchor:middle;\" transform=\"rotate(0, 197.052, 389.613)\" x=\"197.052\" y=\"389.613\">0.2</text>\n",
       "</g>\n",
       "<g clip-path=\"url(#clip00)\">\n",
       "<text style=\"fill:#000000; fill-opacity:1; font-family:Arial,Helvetica Neue,Helvetica,sans-serif; font-size:12; text-anchor:middle;\" transform=\"rotate(0, 269.856, 389.613)\" x=\"269.856\" y=\"389.613\">0.4</text>\n",
       "</g>\n",
       "<g clip-path=\"url(#clip00)\">\n",
       "<text style=\"fill:#000000; fill-opacity:1; font-family:Arial,Helvetica Neue,Helvetica,sans-serif; font-size:12; text-anchor:middle;\" transform=\"rotate(0, 342.661, 389.613)\" x=\"342.661\" y=\"389.613\">0.6</text>\n",
       "</g>\n",
       "<g clip-path=\"url(#clip00)\">\n",
       "<text style=\"fill:#000000; fill-opacity:1; font-family:Arial,Helvetica Neue,Helvetica,sans-serif; font-size:12; text-anchor:middle;\" transform=\"rotate(0, 415.465, 389.613)\" x=\"415.465\" y=\"389.613\">0.8</text>\n",
       "</g>\n",
       "<g clip-path=\"url(#clip00)\">\n",
       "<text style=\"fill:#000000; fill-opacity:1; font-family:Arial,Helvetica Neue,Helvetica,sans-serif; font-size:12; text-anchor:end;\" transform=\"rotate(0, 118.267, 307.529)\" x=\"118.267\" y=\"307.529\">0.2</text>\n",
       "</g>\n",
       "<g clip-path=\"url(#clip00)\">\n",
       "<text style=\"fill:#000000; fill-opacity:1; font-family:Arial,Helvetica Neue,Helvetica,sans-serif; font-size:12; text-anchor:end;\" transform=\"rotate(0, 118.267, 234.725)\" x=\"118.267\" y=\"234.725\">0.4</text>\n",
       "</g>\n",
       "<g clip-path=\"url(#clip00)\">\n",
       "<text style=\"fill:#000000; fill-opacity:1; font-family:Arial,Helvetica Neue,Helvetica,sans-serif; font-size:12; text-anchor:end;\" transform=\"rotate(0, 118.267, 161.92)\" x=\"118.267\" y=\"161.92\">0.6</text>\n",
       "</g>\n",
       "<g clip-path=\"url(#clip00)\">\n",
       "<text style=\"fill:#000000; fill-opacity:1; font-family:Arial,Helvetica Neue,Helvetica,sans-serif; font-size:12; text-anchor:end;\" transform=\"rotate(0, 118.267, 89.1156)\" x=\"118.267\" y=\"89.1156\">0.8</text>\n",
       "</g>\n",
       "<polyline clip-path=\"url(#clip02)\" style=\"stroke:#009af9; stroke-width:1; stroke-opacity:1; fill:none\" points=\"\n",
       "  124.267,11.811 124.43,11.8111 124.755,11.8114 125.243,11.8124 125.893,11.8147 126.706,11.8193 127.681,11.8272 128.818,11.8397 130.117,11.8584 131.579,11.8849 \n",
       "  133.202,11.9212 134.987,11.9695 136.932,12.0321 139.039,12.1117 141.306,12.2109 143.732,12.3329 146.318,12.4807 149.062,12.6578 151.964,12.8677 155.022,13.1142 \n",
       "  158.235,13.4012 161.603,13.7328 165.123,14.1132 168.793,14.5469 172.613,15.0384 176.58,15.5924 180.691,16.2136 184.944,16.907 189.336,17.6774 193.864,18.53 \n",
       "  198.525,19.4698 203.315,20.5018 208.23,21.6313 213.265,22.8631 218.417,24.2025 223.68,25.6542 229.048,27.2232 234.516,28.9141 240.079,30.7316 245.73,32.6799 \n",
       "  251.461,34.7633 257.267,36.9855 263.141,39.3503 269.073,41.8608 275.057,44.52 281.085,47.3305 287.148,50.2944 293.237,53.4135 299.344,56.6889 305.46,60.1215 \n",
       "  311.576,63.7116 317.683,67.4588 323.771,71.3625 329.831,75.4212 335.854,79.6331 341.832,83.9957 347.754,88.506 353.612,93.1604 359.398,97.9548 365.102,102.884 \n",
       "  370.718,107.944 376.236,113.128 381.65,118.431 386.952,123.845 392.137,129.363 397.196,134.979 402.126,140.683 406.92,146.469 411.575,152.327 416.085,158.249 \n",
       "  420.448,164.226 424.66,170.25 428.718,176.31 432.622,182.398 436.369,188.504 439.959,194.62 443.392,200.736 446.667,206.844 449.786,212.933 452.75,218.996 \n",
       "  455.561,225.023 458.22,231.008 460.73,236.94 463.095,242.813 465.317,248.619 467.401,254.351 469.349,260.002 471.167,265.564 472.858,271.033 474.427,276.401 \n",
       "  475.878,281.664 477.218,286.815 478.45,291.851 479.579,296.766 480.611,301.555 481.551,306.216 482.403,310.745 483.174,315.137 483.867,319.39 484.488,323.501 \n",
       "  485.042,327.468 485.534,331.287 485.968,334.958 486.348,338.478 486.68,341.846 486.967,345.059 487.213,348.117 487.423,351.019 487.6,353.763 487.748,356.348 \n",
       "  487.87,358.775 487.969,361.042 488.049,363.148 488.111,365.094 488.16,366.879 488.196,368.502 488.222,369.963 488.241,371.263 488.254,372.4 488.261,373.375 \n",
       "  488.266,374.188 488.268,374.838 488.269,375.326 488.27,375.651 488.27,375.813 \n",
       "  \"/>\n",
       "</svg>\n"
      ]
     },
     "execution_count": 55,
     "metadata": {},
     "output_type": "execute_result"
    }
   ],
   "source": [
    "f = Fun( z -> real(exp(z)), Arc(0.,1.,(0,π/2)))  # Not holomorphic!\n",
    "\n",
    "plot(domain(f); legend=false, ratio=1.0)"
   ]
  },
  {
   "cell_type": "code",
   "execution_count": 56,
   "metadata": {},
   "outputs": [
    {
     "data": {
      "text/plain": [
       "-1.2485382363935424 + 1.9493263439190578im"
      ]
     },
     "execution_count": 56,
     "metadata": {},
     "output_type": "execute_result"
    }
   ],
   "source": [
    "sum(f)  # this means contour integral"
   ]
  },
  {
   "cell_type": "code",
   "execution_count": 7,
   "metadata": {},
   "outputs": [
    {
     "data": {
      "text/plain": [
       "-1.2485382363935429 + 1.9493263439190578im"
      ]
     },
     "execution_count": 7,
     "metadata": {},
     "output_type": "execute_result"
    }
   ],
   "source": [
    "g = im*Fun(t-> f(exp(im*t))*exp(im*t), 0 .. π/2)\n",
    "sum( g )  # this is standard integral"
   ]
  },
  {
   "cell_type": "markdown",
   "metadata": {},
   "source": [
    "An important property of a contour is its _arclength_:\n",
    "\n",
    "**Definition (Arclength)** The _arclength_ of $\\gamma$ is defined as\n",
    "$$\n",
    "    {\\cal L}(\\gamma) := \\int_a^b |\\gamma'(t)| dt\n",
    "$$\n",
    "\n",
    "A very useful result is that we can use the maximum and arclength to bound integrals:\n",
    "\n",
    "**Proposition (ML)** Let $f : \\gamma \\rightarrow {\\mathbb C}$ and \n",
    "$$\n",
    "        M = \\sup_{z \\in \\gamma} |f(z)|\n",
    "$$        \n",
    "Then\n",
    "$$\n",
    "    \\left|\\int_\\gamma f(z) dz \\right| \\leq M {\\cal L}(\\gamma)\n",
    "    $$"
   ]
  },
  {
   "cell_type": "markdown",
   "metadata": {},
   "source": [
    "## Cauchy's theorem\n",
    "\n",
    "**Proposition** If $f(z)$ is holomorphic on $\\gamma$, then\n",
    "$$\\int_\\gamma f'(z) dz = f(\\gamma(b)) - f(\\gamma(a))$$"
   ]
  },
  {
   "cell_type": "code",
   "execution_count": 58,
   "metadata": {},
   "outputs": [
    {
     "data": {
      "text/plain": [
       "(-2.177979522590906 + 0.8414709848078963im, -2.177979522590906 + 0.8414709848078968im)"
      ]
     },
     "execution_count": 58,
     "metadata": {},
     "output_type": "execute_result"
    }
   ],
   "source": [
    "f = Fun( z -> exp(z), Arc(0.,1.,(0,π/2)))  # Not holomorphic!\n",
    "\n",
    "sum(f)  , f(im)-f(1)"
   ]
  },
  {
   "cell_type": "code",
   "execution_count": 9,
   "metadata": {},
   "outputs": [
    {
     "data": {
      "text/plain": [
       "(-2.177979522590906 + 0.8414709848078963im, -2.177979522590906 + 0.8414709848078968im)"
      ]
     },
     "execution_count": 9,
     "metadata": {},
     "output_type": "execute_result"
    }
   ],
   "source": [
    "f = Fun( z -> exp(z), Arc(0.,1.,(0,π/2)))  # Holomorphic!\n",
    "\n",
    "sum(f)  , f(im)-f(1)"
   ]
  },
  {
   "cell_type": "code",
   "execution_count": 59,
   "metadata": {},
   "outputs": [
    {
     "data": {
      "text/plain": [
       "(-2.1779795225909053 + 0.8414709848078966im, -2.177979522590907 + 0.8414709848078972im)"
      ]
     },
     "execution_count": 59,
     "metadata": {},
     "output_type": "execute_result"
    }
   ],
   "source": [
    "f = Fun( z -> exp(z), Segment(1,im))  # Holomorphic!\n",
    "\n",
    "sum(f)  , f(im)-f(1)"
   ]
  },
  {
   "cell_type": "markdown",
   "metadata": {},
   "source": [
    "**Theorem (Cauchy)** If $f$ is holomorphic inside and on a closed contour $\\gamma$, then \n",
    "$$\\oint_\\gamma f(z) dz = 0$$"
   ]
  },
  {
   "cell_type": "code",
   "execution_count": 60,
   "metadata": {},
   "outputs": [
    {
     "data": {
      "text/plain": [
       "-4.17282823916375e-16 + 3.141592653589793im"
      ]
     },
     "execution_count": 60,
     "metadata": {},
     "output_type": "execute_result"
    }
   ],
   "source": [
    "f = Fun( z -> real(exp(z)), Circle())  # Not holomorphic!\n",
    "\n",
    "sum(f)"
   ]
  },
  {
   "cell_type": "code",
   "execution_count": 61,
   "metadata": {},
   "outputs": [
    {
     "data": {
      "text/plain": [
       "2.964420207841524e-17 - 1.4869644253437085e-16im"
      ]
     },
     "execution_count": 61,
     "metadata": {},
     "output_type": "execute_result"
    }
   ],
   "source": [
    "f = Fun( z -> exp(z), Circle())  #  Holomorphic!\n",
    "\n",
    "sum(f)"
   ]
  },
  {
   "cell_type": "markdown",
   "metadata": {},
   "source": [
    "### Sketch of proof on a square"
   ]
  },
  {
   "cell_type": "code",
   "execution_count": 13,
   "metadata": {},
   "outputs": [
    {
     "data": {
      "text/plain": [
       "2.220446049250313e-16 + 0.0im"
      ]
     },
     "execution_count": 13,
     "metadata": {},
     "output_type": "execute_result"
    }
   ],
   "source": [
    "Γ = Segment(0,im) ∪ Segment(im, 1+im) ∪ Segment(1+im,1) ∪ Segment(1,0)\n",
    "\n",
    "plot(Γ)\n",
    "\n",
    "f = Fun(exp, Γ)\n",
    "\n",
    "sum(f)"
   ]
  },
  {
   "cell_type": "code",
   "execution_count": 14,
   "metadata": {},
   "outputs": [
    {
     "data": {
      "text/plain": [
       "-0.7898901944112997 - 1.4458843023709458im"
      ]
     },
     "execution_count": 14,
     "metadata": {},
     "output_type": "execute_result"
    }
   ],
   "source": [
    "sum(real(f))"
   ]
  },
  {
   "cell_type": "code",
   "execution_count": 15,
   "metadata": {},
   "outputs": [
    {
     "data": {
      "text/plain": [
       "0.0 + 0.0im"
      ]
     },
     "execution_count": 15,
     "metadata": {},
     "output_type": "execute_result"
    }
   ],
   "source": [
    "sum(Fun(exp, Segment(im/2,1/2+im/2))) +\n",
    "    sum(Fun(exp, Segment(1/2+im/2,im/2)))"
   ]
  },
  {
   "cell_type": "code",
   "execution_count": 16,
   "metadata": {},
   "outputs": [
    {
     "data": {
      "text/plain": [
       "-1.0332465125051371e-5 + 0.0009867340222367016im"
      ]
     },
     "execution_count": 16,
     "metadata": {},
     "output_type": "execute_result"
    }
   ],
   "source": [
    "h = 2.0^(-5)\n",
    "exp(h*(1+im)) -(exp(0) + exp(0)*h*(1+im))"
   ]
  }
 ],
 "metadata": {
  "kernelspec": {
   "display_name": "Julia 0.6.0",
   "language": "julia",
   "name": "julia-0.6"
  },
  "language_info": {
   "file_extension": ".jl",
   "mimetype": "application/julia",
   "name": "julia",
   "version": "0.6.0"
  }
 },
 "nbformat": 4,
 "nbformat_minor": 2
}
